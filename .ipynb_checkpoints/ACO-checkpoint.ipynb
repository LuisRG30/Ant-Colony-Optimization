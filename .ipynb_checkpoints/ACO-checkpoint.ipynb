{
 "cells": [
  {
   "cell_type": "markdown",
   "metadata": {
    "id": "BgB54BZPyINB"
   },
   "source": [
    "## Ant Colony Optimization\n",
    "Luis Ramírez Guzmán\n",
    "A01638402"
   ]
  },
  {
   "cell_type": "code",
   "execution_count": 1,
   "metadata": {
    "colab": {
     "base_uri": "https://localhost:8080/"
    },
    "id": "Ll9GVE82TzYr",
    "outputId": "4811704d-f0e0-4188-a9a7-26433b7e55fe"
   },
   "outputs": [
    {
     "name": "stdout",
     "output_type": "stream",
     "text": [
      "Requirement already satisfied: acopy in c:\\users\\champs\\anaconda3\\lib\\site-packages (0.7.0)\n",
      "Requirement already satisfied: click~=7.1 in c:\\users\\champs\\anaconda3\\lib\\site-packages (from acopy) (7.1.2)\n",
      "Requirement already satisfied: networkx~=2.4 in c:\\users\\champs\\anaconda3\\lib\\site-packages (from acopy) (2.5)\n",
      "Requirement already satisfied: tsplib95~=0.7.0 in c:\\users\\champs\\anaconda3\\lib\\site-packages (from acopy) (0.7.1)\n",
      "Requirement already satisfied: decorator>=4.3.0 in c:\\users\\champs\\anaconda3\\lib\\site-packages (from networkx~=2.4->acopy) (4.4.2)\n",
      "Requirement already satisfied: tabulate~=0.8.7 in c:\\users\\champs\\anaconda3\\lib\\site-packages (from tsplib95~=0.7.0->acopy) (0.8.9)\n",
      "Requirement already satisfied: Deprecated~=1.2.9 in c:\\users\\champs\\anaconda3\\lib\\site-packages (from tsplib95~=0.7.0->acopy) (1.2.13)\n",
      "Requirement already satisfied: wrapt<2,>=1.10 in c:\\users\\champs\\anaconda3\\lib\\site-packages (from Deprecated~=1.2.9->tsplib95~=0.7.0->acopy) (1.12.1)\n",
      "Requirement already satisfied: networkx in c:\\users\\champs\\anaconda3\\lib\\site-packages (2.5)\n",
      "Requirement already satisfied: decorator>=4.3.0 in c:\\users\\champs\\anaconda3\\lib\\site-packages (from networkx) (4.4.2)\n"
     ]
    }
   ],
   "source": [
    "!pip install acopy\n",
    "!pip install networkx"
   ]
  },
  {
   "cell_type": "code",
   "execution_count": 2,
   "metadata": {
    "id": "1G4uPcVjT22I"
   },
   "outputs": [
    {
     "ename": "ModuleNotFoundError",
     "evalue": "No module named 'folium'",
     "output_type": "error",
     "traceback": [
      "\u001b[1;31m---------------------------------------------------------------------------\u001b[0m",
      "\u001b[1;31mModuleNotFoundError\u001b[0m                       Traceback (most recent call last)",
      "\u001b[1;32m<ipython-input-2-f10e6110155c>\u001b[0m in \u001b[0;36m<module>\u001b[1;34m\u001b[0m\n\u001b[0;32m      2\u001b[0m \u001b[1;32mimport\u001b[0m \u001b[0mtsplib95\u001b[0m\u001b[1;33m\u001b[0m\u001b[1;33m\u001b[0m\u001b[0m\n\u001b[0;32m      3\u001b[0m \u001b[1;32mimport\u001b[0m \u001b[0mnetworkx\u001b[0m\u001b[1;33m\u001b[0m\u001b[1;33m\u001b[0m\u001b[0m\n\u001b[1;32m----> 4\u001b[1;33m \u001b[1;32mimport\u001b[0m \u001b[0mfolium\u001b[0m\u001b[1;33m\u001b[0m\u001b[1;33m\u001b[0m\u001b[0m\n\u001b[0m\u001b[0;32m      5\u001b[0m \u001b[1;32mimport\u001b[0m \u001b[0mpandas\u001b[0m \u001b[1;32mas\u001b[0m \u001b[0mpd\u001b[0m\u001b[1;33m\u001b[0m\u001b[1;33m\u001b[0m\u001b[0m\n",
      "\u001b[1;31mModuleNotFoundError\u001b[0m: No module named 'folium'"
     ]
    }
   ],
   "source": [
    "import acopy\n",
    "import tsplib95\n",
    "import networkx\n",
    "import folium\n",
    "import pandas as pd"
   ]
  },
  {
   "cell_type": "markdown",
   "metadata": {
    "id": "5ks5H2aryCNg"
   },
   "source": [
    "Carga de coordenadas de ciudades y visualización de gráfica simple."
   ]
  },
  {
   "cell_type": "code",
   "execution_count": null,
   "metadata": {
    "id": "xZB2IfMxUMNf"
   },
   "outputs": [],
   "source": [
    "problem = tsplib95.load('Europe15.tsp')\n",
    "G = problem.get_graph()"
   ]
  },
  {
   "cell_type": "code",
   "execution_count": null,
   "metadata": {
    "colab": {
     "base_uri": "https://localhost:8080/",
     "height": 319
    },
    "id": "spdSUdwfUW9s",
    "outputId": "d0adeb12-08f7-455a-f6b0-af1500e4dc09"
   },
   "outputs": [],
   "source": [
    "networkx.draw(G)"
   ]
  },
  {
   "cell_type": "markdown",
   "metadata": {
    "id": "azH7kfyVyT8q"
   },
   "source": [
    "Carga de latitudes y longitudes con nombre de ciudad para visualización."
   ]
  },
  {
   "cell_type": "code",
   "execution_count": null,
   "metadata": {
    "colab": {
     "base_uri": "https://localhost:8080/",
     "height": 206
    },
    "id": "yHmBKiQjXTjH",
    "outputId": "c1e1cfd9-260b-461b-8f4f-7908c97f9012"
   },
   "outputs": [],
   "source": [
    "df = pd.read_csv('EuropeCities.txt', header=None)\n",
    "df.index += 1\n",
    "df.head()"
   ]
  },
  {
   "cell_type": "code",
   "execution_count": null,
   "metadata": {
    "id": "91c7Ybs0UmhA"
   },
   "outputs": [],
   "source": [
    "m = folium.Map(location=[52.5200, 13.4050], zoom_start=4)\n",
    "for i in range(len(df)):\n",
    "  folium.CircleMarker(\n",
    "      location=[df[1][i+1], df[2][i+1]],\n",
    "      radius=5,\n",
    "      fill=True,\n",
    "      fill_opacity=0.9,\n",
    "      tooltip=df[3][i+1]\n",
    "  ).add_to(m)\n",
    "m"
   ]
  },
  {
   "cell_type": "markdown",
   "metadata": {
    "id": "iF_UCYsIyeJ_"
   },
   "source": [
    "Inicializar colonia de hormigas."
   ]
  },
  {
   "cell_type": "code",
   "execution_count": null,
   "metadata": {
    "id": "nBahcNdUWZ6Z"
   },
   "outputs": [],
   "source": [
    "solver = acopy.Solver(rho=.03, q=1)\n",
    "colony = acopy.Colony(alpha=1, beta=3)"
   ]
  },
  {
   "cell_type": "markdown",
   "metadata": {
    "id": "Zt8CbZJ_yiae"
   },
   "source": [
    "Solución de recorrido con costo y nodos."
   ]
  },
  {
   "cell_type": "code",
   "execution_count": null,
   "metadata": {
    "id": "eyg3GQXPrEB4"
   },
   "outputs": [],
   "source": [
    "tour = solver.solve(G, colony, limit=10000)"
   ]
  },
  {
   "cell_type": "code",
   "execution_count": null,
   "metadata": {
    "colab": {
     "base_uri": "https://localhost:8080/"
    },
    "id": "ECQu0fEMrP9P",
    "outputId": "233831d6-bac8-4390-d539-4635b27f544b"
   },
   "outputs": [],
   "source": [
    "tour.cost"
   ]
  },
  {
   "cell_type": "code",
   "execution_count": null,
   "metadata": {
    "colab": {
     "base_uri": "https://localhost:8080/"
    },
    "id": "1TMfYhkIrUBA",
    "outputId": "a261cb0b-df8f-495c-c500-c64740e6db6f"
   },
   "outputs": [],
   "source": [
    "nodes = tour.nodes\n",
    "nodes"
   ]
  },
  {
   "cell_type": "markdown",
   "metadata": {
    "id": "s39sjDOjyno6"
   },
   "source": [
    "Resultado final:"
   ]
  },
  {
   "cell_type": "code",
   "execution_count": null,
   "metadata": {
    "colab": {
     "base_uri": "https://localhost:8080/",
     "height": 583
    },
    "id": "6It0NJbYrVfG",
    "outputId": "32615ca0-8d4e-4ea1-e389-73b8a01b20dd"
   },
   "outputs": [],
   "source": [
    "for i in range(1, len(nodes)):\n",
    "  loc = [(df[1][nodes[i-1]], df[2][nodes[i-1]]),\n",
    "       (df[1][nodes[i]], df[2][nodes[i]])]\n",
    "  folium.PolyLine(loc,\n",
    "                color='red',\n",
    "                weight=5,\n",
    "                opacity=0.5).add_to(m)\n",
    "folium.PolyLine([(df[1][nodes[-1]], df[2][nodes[-1]]), (df[1][nodes[0]], df[2][nodes[0]])],\n",
    "                color='red',\n",
    "                weight=5,\n",
    "                opacity=0.5\n",
    "                ).add_to(m)\n",
    "m"
   ]
  },
  {
   "cell_type": "code",
   "execution_count": null,
   "metadata": {
    "id": "ofbwmJmuv6OQ"
   },
   "outputs": [],
   "source": []
  }
 ],
 "metadata": {
  "colab": {
   "name": "ACO.ipynb",
   "provenance": []
  },
  "kernelspec": {
   "display_name": "Python 3",
   "language": "python",
   "name": "python3"
  },
  "language_info": {
   "codemirror_mode": {
    "name": "ipython",
    "version": 3
   },
   "file_extension": ".py",
   "mimetype": "text/x-python",
   "name": "python",
   "nbconvert_exporter": "python",
   "pygments_lexer": "ipython3",
   "version": "3.8.5"
  }
 },
 "nbformat": 4,
 "nbformat_minor": 1
}
